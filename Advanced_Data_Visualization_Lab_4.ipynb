{
  "nbformat": 4,
  "nbformat_minor": 0,
  "metadata": {
    "colab": {
      "provenance": [],
      "authorship_tag": "ABX9TyMtVxM+BbfQybXT38C6g/7m",
      "include_colab_link": true
    },
    "kernelspec": {
      "name": "python3",
      "display_name": "Python 3"
    },
    "language_info": {
      "name": "python"
    }
  },
  "cells": [
    {
      "cell_type": "markdown",
      "metadata": {
        "id": "view-in-github",
        "colab_type": "text"
      },
      "source": [
        "<a href=\"https://colab.research.google.com/github/minibrixie/Advanced-Data-Visualization-Lab-4/blob/main/Advanced_Data_Visualization_Lab_4.ipynb\" target=\"_parent\"><img src=\"https://colab.research.google.com/assets/colab-badge.svg\" alt=\"Open In Colab\"/></a>"
      ]
    },
    {
      "cell_type": "code",
      "execution_count": null,
      "metadata": {
        "colab": {
          "base_uri": "https://localhost:8080/"
        },
        "id": "-fc0L4yXh5FF",
        "outputId": "ed237214-b9e8-4dea-d59d-2e7af2908079"
      },
      "outputs": [
        {
          "output_type": "stream",
          "name": "stdout",
          "text": [
            "Enter the first number:12.0\n",
            "Enter the second number:25.7\n",
            "Sum: 12.0 + 25.7 = 37.7\n"
          ]
        }
      ],
      "source": [
        "num1 = input(\"Enter the first number:\")\n",
        "num2 = input(\"Enter the second number:\")\n",
        "\n",
        "sum = float(num1) + float(num2)\n",
        "print(\"Sum: {0} + {1} = {2}\".format(num1, num2,sum))"
      ]
    },
    {
      "cell_type": "code",
      "source": [
        "num1 = input(\"Enter the first number:\")\n",
        "num2 = input(\"Enter the second number:\")\n",
        "\n",
        "difference = float(num1) - float(num2)\n",
        "print(\"Difference: {0} - {1} = {2}\".format(num1, num2,difference))"
      ],
      "metadata": {
        "colab": {
          "base_uri": "https://localhost:8080/"
        },
        "id": "WUSeW4X0iA0Z",
        "outputId": "ffa65801-69fe-4390-aa5b-69579c4c83cf"
      },
      "execution_count": null,
      "outputs": [
        {
          "output_type": "stream",
          "name": "stdout",
          "text": [
            "Enter the first number:12.0\n",
            "Enter the second number:25.7\n",
            "Difference: 12.0 - 25.7 = -13.7\n"
          ]
        }
      ]
    },
    {
      "cell_type": "code",
      "source": [
        "num1 = input(\"Enter the first number:\")\n",
        "num2 = input(\"Enter the second number:\")\n",
        "\n",
        "product = float(num1) * float(num2)\n",
        "print(\"Product: {0} * {1} = {2}\".format(num1, num2,product))"
      ],
      "metadata": {
        "colab": {
          "base_uri": "https://localhost:8080/"
        },
        "id": "6T7-gya8iKTV",
        "outputId": "9b40988b-7d15-4633-ea27-33d3d9744cda"
      },
      "execution_count": null,
      "outputs": [
        {
          "output_type": "stream",
          "name": "stdout",
          "text": [
            "Enter the first number:12.0\n",
            "Enter the second number:25.7\n",
            "Product: 12.0 * 25.7 = 308.4\n"
          ]
        }
      ]
    },
    {
      "cell_type": "code",
      "source": [
        "num1 = input(\"Enter the first number:\")\n",
        "num2 = input(\"Enter the second number:\")\n",
        "\n",
        "quotient = float(num1) / float(num2)\n",
        "print(\"Quotient: {0} / {1} = {2}\".format(num1, num2,quotient))"
      ],
      "metadata": {
        "colab": {
          "base_uri": "https://localhost:8080/"
        },
        "id": "RmqmoGxtiTiI",
        "outputId": "8e159673-c2c7-4722-9811-beb6fc32b287"
      },
      "execution_count": null,
      "outputs": [
        {
          "output_type": "stream",
          "name": "stdout",
          "text": [
            "Enter the first number:12.0\n",
            "Enter the second number:25.7\n",
            "Quotient: 12.0 / 25.7 = 0.4669260700389105\n"
          ]
        }
      ]
    },
    {
      "cell_type": "code",
      "source": [
        "num1 = input(\"Enter the first number:\")\n",
        "num2 = input(\"Enter the second number:\")\n",
        "\n",
        "power = float(num1) ** float(num2)\n",
        "print(\"Power: {0} ** {1} = {2}\".format(num1, num2,power))"
      ],
      "metadata": {
        "colab": {
          "base_uri": "https://localhost:8080/"
        },
        "id": "dMbI9mKniqDn",
        "outputId": "8cd09272-c103-4b4a-ab0d-e84480bbe1a1"
      },
      "execution_count": null,
      "outputs": [
        {
          "output_type": "stream",
          "name": "stdout",
          "text": [
            "Enter the first number:12.0\n",
            "Enter the second number:25.7\n",
            "Power: 12.0 ** 25.7 = 5.43197826365636e+27\n"
          ]
        }
      ]
    },
    {
      "cell_type": "code",
      "source": [
        "num1 = input(\"Enter the first number:\")\n",
        "num2 = input(\"Enter the second number:\")\n",
        "\n",
        "remainder = float(num1) % float(num2)\n",
        "print('Division with remaider: {0} / {1} = 0.0\\n Remainder: {2}'.format(num1, num2,remainder))"
      ],
      "metadata": {
        "colab": {
          "base_uri": "https://localhost:8080/"
        },
        "id": "a4d1EEuti0uw",
        "outputId": "9d715687-c0e2-4d60-afe5-9a383422b3d6"
      },
      "execution_count": null,
      "outputs": [
        {
          "output_type": "stream",
          "name": "stdout",
          "text": [
            "Enter the first number:12\n",
            "Enter the second number:5\n",
            "Division with remaider: 12 / 5 = 0.0\n",
            " Remainder: 2.0\n"
          ]
        }
      ]
    }
  ]
}